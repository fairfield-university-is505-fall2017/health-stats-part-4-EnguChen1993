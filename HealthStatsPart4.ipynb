{
 "cells": [
  {
   "cell_type": "markdown",
   "metadata": {},
   "source": [
    "# Health Stats Part 4: Waist 2 Hip Ratios"
   ]
  },
  {
   "cell_type": "markdown",
   "metadata": {},
   "source": [
    "<!--- Write an explanation of the Waist To Hips Ratio statistic used by health professionals. Please include an explanation of what it is used for, exactly how it is calculated, and how to interpret the results. Note: Formmatting matters. Make this as professional as you can using Markdown.  --->\n",
    "EDIT THIS MARKDOWN CELL"
   ]
  },
  {
   "cell_type": "markdown",
   "metadata": {},
   "source": [
    "## Source Data "
   ]
  },
  {
   "cell_type": "markdown",
   "metadata": {},
   "source": [
    "<!--- Replace the text below with a Markdown bullet list that defines the columns of the CSV file. Be sure to indicate the data type for each column. --->\n",
    "EDIT THIS MARKDOWN CELL"
   ]
  },
  {
   "cell_type": "markdown",
   "metadata": {},
   "source": [
    "## Data Import"
   ]
  },
  {
   "cell_type": "code",
   "execution_count": 16,
   "metadata": {},
   "outputs": [
    {
     "name": "stdout",
     "output_type": "stream",
     "text": [
      "    Waist   Hip Gender\n",
      "ID                    \n",
      "1    30.0  32.0      M\n",
      "2    32.0  37.0      M\n",
      "3    30.0  36.0      M\n",
      "4    33.0  39.0      M\n",
      "5    29.0  33.0      M\n",
      "6    32.0  38.0      M\n",
      "7    33.0  42.0      M\n",
      "8    30.0  40.0      M\n",
      "9    30.0  37.0      M\n",
      "10   32.0  39.0      M\n",
      "11   24.0  35.0      F\n",
      "12   25.0  37.0      F\n",
      "13   24.0  37.0      F\n",
      "14   22.0  34.0      F\n",
      "15   26.0  38.0      F\n",
      "16   26.0  37.0      F\n",
      "17   25.0  38.0      F\n",
      "18   26.0  37.0      F\n",
      "19   28.0  40.0      F\n",
      "20   23.0  35.0      F\n"
     ]
    }
   ],
   "source": [
    "# Goal: Extract the data from the file\n",
    "\n",
    "import numpy as np\n",
    "import pandas as pd\n",
    "\n",
    "rows = pd.read_csv('w2h_data.csv',index_col=0,dtype=[(\"ID\",int),(\"Waist\",float),(\"Hip\",float),(\"Gender\",object)])\n",
    "\n",
    "print (rows)\n"
   ]
  },
  {
   "cell_type": "markdown",
   "metadata": {},
   "source": [
    "## Calculations"
   ]
  },
  {
   "cell_type": "code",
   "execution_count": 17,
   "metadata": {
    "scrolled": true
   },
   "outputs": [],
   "source": [
    "# Goal: For each row of data calculate and store the w2h_ratio and shape.\n",
    "\n",
    "# calculate the waist to hips ratios\n",
    "w2h_ratios = rows['Waist']/rows['Hip']\n",
    "\n",
    "# determine who is male (True) or female (False)\n",
    "males = (rows['Gender']=='M')\n",
    "\n",
    "# males with w2h ration > 0.9 are apple shaped\n",
    "male_apples = np.logical_and((w2h_ratios>0.9),males)\n",
    "\n",
    "# females with w2h ratio > 0.8 are apple shaped\n",
    "female_apples = np.logical_and((w2h_ratios>0.8),np.logical_not(males))\n",
    "\n",
    "# combines the male_apples and female_apples\n",
    "apples=np.logical_or(male_apples,female_apples)\n",
    "\n",
    "# works like an if then else statement\n",
    "shapes=np.where(apples,'Apple','Pear')\n",
    "\n",
    "# add the two new columns to the DataFrame\n",
    "\n",
    "rows['W2H Ratio']=w2h_ratios\n",
    "rows['Shape']=shapes\n",
    "\n"
   ]
  },
  {
   "cell_type": "markdown",
   "metadata": {},
   "source": [
    "## Output"
   ]
  },
  {
   "cell_type": "code",
   "execution_count": 18,
   "metadata": {},
   "outputs": [
    {
     "data": {
      "text/html": [
       "<style  type=\"text/css\" >\n",
       "</style>  \n",
       "<table id=\"T_b28e6a4a_a2df_11e7_a22f_1002b5c0b8da\" > \n",
       "<thead>    <tr> \n",
       "        <th class=\"blank level0\" ></th> \n",
       "        <th class=\"col_heading level0 col0\" >Waist</th> \n",
       "        <th class=\"col_heading level0 col1\" >Hip</th> \n",
       "        <th class=\"col_heading level0 col2\" >Gender</th> \n",
       "        <th class=\"col_heading level0 col3\" >W2H Ratio</th> \n",
       "        <th class=\"col_heading level0 col4\" >Shape</th> \n",
       "    </tr>    <tr> \n",
       "        <th class=\"index_name level0\" >ID</th> \n",
       "        <th class=\"blank\" ></th> \n",
       "        <th class=\"blank\" ></th> \n",
       "        <th class=\"blank\" ></th> \n",
       "        <th class=\"blank\" ></th> \n",
       "        <th class=\"blank\" ></th> \n",
       "    </tr></thead> \n",
       "<tbody>    <tr> \n",
       "        <th id=\"T_b28e6a4a_a2df_11e7_a22f_1002b5c0b8da\" class=\"row_heading level0 row0\" >1</th> \n",
       "        <td id=\"T_b28e6a4a_a2df_11e7_a22f_1002b5c0b8darow0_col0\" class=\"data row0 col0\" >30</td> \n",
       "        <td id=\"T_b28e6a4a_a2df_11e7_a22f_1002b5c0b8darow0_col1\" class=\"data row0 col1\" >32</td> \n",
       "        <td id=\"T_b28e6a4a_a2df_11e7_a22f_1002b5c0b8darow0_col2\" class=\"data row0 col2\" >M</td> \n",
       "        <td id=\"T_b28e6a4a_a2df_11e7_a22f_1002b5c0b8darow0_col3\" class=\"data row0 col3\" >0.9375</td> \n",
       "        <td id=\"T_b28e6a4a_a2df_11e7_a22f_1002b5c0b8darow0_col4\" class=\"data row0 col4\" >Apple</td> \n",
       "    </tr>    <tr> \n",
       "        <th id=\"T_b28e6a4a_a2df_11e7_a22f_1002b5c0b8da\" class=\"row_heading level0 row1\" >2</th> \n",
       "        <td id=\"T_b28e6a4a_a2df_11e7_a22f_1002b5c0b8darow1_col0\" class=\"data row1 col0\" >32</td> \n",
       "        <td id=\"T_b28e6a4a_a2df_11e7_a22f_1002b5c0b8darow1_col1\" class=\"data row1 col1\" >37</td> \n",
       "        <td id=\"T_b28e6a4a_a2df_11e7_a22f_1002b5c0b8darow1_col2\" class=\"data row1 col2\" >M</td> \n",
       "        <td id=\"T_b28e6a4a_a2df_11e7_a22f_1002b5c0b8darow1_col3\" class=\"data row1 col3\" >0.864865</td> \n",
       "        <td id=\"T_b28e6a4a_a2df_11e7_a22f_1002b5c0b8darow1_col4\" class=\"data row1 col4\" >Pear</td> \n",
       "    </tr>    <tr> \n",
       "        <th id=\"T_b28e6a4a_a2df_11e7_a22f_1002b5c0b8da\" class=\"row_heading level0 row2\" >3</th> \n",
       "        <td id=\"T_b28e6a4a_a2df_11e7_a22f_1002b5c0b8darow2_col0\" class=\"data row2 col0\" >30</td> \n",
       "        <td id=\"T_b28e6a4a_a2df_11e7_a22f_1002b5c0b8darow2_col1\" class=\"data row2 col1\" >36</td> \n",
       "        <td id=\"T_b28e6a4a_a2df_11e7_a22f_1002b5c0b8darow2_col2\" class=\"data row2 col2\" >M</td> \n",
       "        <td id=\"T_b28e6a4a_a2df_11e7_a22f_1002b5c0b8darow2_col3\" class=\"data row2 col3\" >0.833333</td> \n",
       "        <td id=\"T_b28e6a4a_a2df_11e7_a22f_1002b5c0b8darow2_col4\" class=\"data row2 col4\" >Pear</td> \n",
       "    </tr>    <tr> \n",
       "        <th id=\"T_b28e6a4a_a2df_11e7_a22f_1002b5c0b8da\" class=\"row_heading level0 row3\" >4</th> \n",
       "        <td id=\"T_b28e6a4a_a2df_11e7_a22f_1002b5c0b8darow3_col0\" class=\"data row3 col0\" >33</td> \n",
       "        <td id=\"T_b28e6a4a_a2df_11e7_a22f_1002b5c0b8darow3_col1\" class=\"data row3 col1\" >39</td> \n",
       "        <td id=\"T_b28e6a4a_a2df_11e7_a22f_1002b5c0b8darow3_col2\" class=\"data row3 col2\" >M</td> \n",
       "        <td id=\"T_b28e6a4a_a2df_11e7_a22f_1002b5c0b8darow3_col3\" class=\"data row3 col3\" >0.846154</td> \n",
       "        <td id=\"T_b28e6a4a_a2df_11e7_a22f_1002b5c0b8darow3_col4\" class=\"data row3 col4\" >Pear</td> \n",
       "    </tr>    <tr> \n",
       "        <th id=\"T_b28e6a4a_a2df_11e7_a22f_1002b5c0b8da\" class=\"row_heading level0 row4\" >5</th> \n",
       "        <td id=\"T_b28e6a4a_a2df_11e7_a22f_1002b5c0b8darow4_col0\" class=\"data row4 col0\" >29</td> \n",
       "        <td id=\"T_b28e6a4a_a2df_11e7_a22f_1002b5c0b8darow4_col1\" class=\"data row4 col1\" >33</td> \n",
       "        <td id=\"T_b28e6a4a_a2df_11e7_a22f_1002b5c0b8darow4_col2\" class=\"data row4 col2\" >M</td> \n",
       "        <td id=\"T_b28e6a4a_a2df_11e7_a22f_1002b5c0b8darow4_col3\" class=\"data row4 col3\" >0.878788</td> \n",
       "        <td id=\"T_b28e6a4a_a2df_11e7_a22f_1002b5c0b8darow4_col4\" class=\"data row4 col4\" >Pear</td> \n",
       "    </tr>    <tr> \n",
       "        <th id=\"T_b28e6a4a_a2df_11e7_a22f_1002b5c0b8da\" class=\"row_heading level0 row5\" >6</th> \n",
       "        <td id=\"T_b28e6a4a_a2df_11e7_a22f_1002b5c0b8darow5_col0\" class=\"data row5 col0\" >32</td> \n",
       "        <td id=\"T_b28e6a4a_a2df_11e7_a22f_1002b5c0b8darow5_col1\" class=\"data row5 col1\" >38</td> \n",
       "        <td id=\"T_b28e6a4a_a2df_11e7_a22f_1002b5c0b8darow5_col2\" class=\"data row5 col2\" >M</td> \n",
       "        <td id=\"T_b28e6a4a_a2df_11e7_a22f_1002b5c0b8darow5_col3\" class=\"data row5 col3\" >0.842105</td> \n",
       "        <td id=\"T_b28e6a4a_a2df_11e7_a22f_1002b5c0b8darow5_col4\" class=\"data row5 col4\" >Pear</td> \n",
       "    </tr>    <tr> \n",
       "        <th id=\"T_b28e6a4a_a2df_11e7_a22f_1002b5c0b8da\" class=\"row_heading level0 row6\" >7</th> \n",
       "        <td id=\"T_b28e6a4a_a2df_11e7_a22f_1002b5c0b8darow6_col0\" class=\"data row6 col0\" >33</td> \n",
       "        <td id=\"T_b28e6a4a_a2df_11e7_a22f_1002b5c0b8darow6_col1\" class=\"data row6 col1\" >42</td> \n",
       "        <td id=\"T_b28e6a4a_a2df_11e7_a22f_1002b5c0b8darow6_col2\" class=\"data row6 col2\" >M</td> \n",
       "        <td id=\"T_b28e6a4a_a2df_11e7_a22f_1002b5c0b8darow6_col3\" class=\"data row6 col3\" >0.785714</td> \n",
       "        <td id=\"T_b28e6a4a_a2df_11e7_a22f_1002b5c0b8darow6_col4\" class=\"data row6 col4\" >Pear</td> \n",
       "    </tr>    <tr> \n",
       "        <th id=\"T_b28e6a4a_a2df_11e7_a22f_1002b5c0b8da\" class=\"row_heading level0 row7\" >8</th> \n",
       "        <td id=\"T_b28e6a4a_a2df_11e7_a22f_1002b5c0b8darow7_col0\" class=\"data row7 col0\" >30</td> \n",
       "        <td id=\"T_b28e6a4a_a2df_11e7_a22f_1002b5c0b8darow7_col1\" class=\"data row7 col1\" >40</td> \n",
       "        <td id=\"T_b28e6a4a_a2df_11e7_a22f_1002b5c0b8darow7_col2\" class=\"data row7 col2\" >M</td> \n",
       "        <td id=\"T_b28e6a4a_a2df_11e7_a22f_1002b5c0b8darow7_col3\" class=\"data row7 col3\" >0.75</td> \n",
       "        <td id=\"T_b28e6a4a_a2df_11e7_a22f_1002b5c0b8darow7_col4\" class=\"data row7 col4\" >Pear</td> \n",
       "    </tr>    <tr> \n",
       "        <th id=\"T_b28e6a4a_a2df_11e7_a22f_1002b5c0b8da\" class=\"row_heading level0 row8\" >9</th> \n",
       "        <td id=\"T_b28e6a4a_a2df_11e7_a22f_1002b5c0b8darow8_col0\" class=\"data row8 col0\" >30</td> \n",
       "        <td id=\"T_b28e6a4a_a2df_11e7_a22f_1002b5c0b8darow8_col1\" class=\"data row8 col1\" >37</td> \n",
       "        <td id=\"T_b28e6a4a_a2df_11e7_a22f_1002b5c0b8darow8_col2\" class=\"data row8 col2\" >M</td> \n",
       "        <td id=\"T_b28e6a4a_a2df_11e7_a22f_1002b5c0b8darow8_col3\" class=\"data row8 col3\" >0.810811</td> \n",
       "        <td id=\"T_b28e6a4a_a2df_11e7_a22f_1002b5c0b8darow8_col4\" class=\"data row8 col4\" >Pear</td> \n",
       "    </tr>    <tr> \n",
       "        <th id=\"T_b28e6a4a_a2df_11e7_a22f_1002b5c0b8da\" class=\"row_heading level0 row9\" >10</th> \n",
       "        <td id=\"T_b28e6a4a_a2df_11e7_a22f_1002b5c0b8darow9_col0\" class=\"data row9 col0\" >32</td> \n",
       "        <td id=\"T_b28e6a4a_a2df_11e7_a22f_1002b5c0b8darow9_col1\" class=\"data row9 col1\" >39</td> \n",
       "        <td id=\"T_b28e6a4a_a2df_11e7_a22f_1002b5c0b8darow9_col2\" class=\"data row9 col2\" >M</td> \n",
       "        <td id=\"T_b28e6a4a_a2df_11e7_a22f_1002b5c0b8darow9_col3\" class=\"data row9 col3\" >0.820513</td> \n",
       "        <td id=\"T_b28e6a4a_a2df_11e7_a22f_1002b5c0b8darow9_col4\" class=\"data row9 col4\" >Pear</td> \n",
       "    </tr>    <tr> \n",
       "        <th id=\"T_b28e6a4a_a2df_11e7_a22f_1002b5c0b8da\" class=\"row_heading level0 row10\" >11</th> \n",
       "        <td id=\"T_b28e6a4a_a2df_11e7_a22f_1002b5c0b8darow10_col0\" class=\"data row10 col0\" >24</td> \n",
       "        <td id=\"T_b28e6a4a_a2df_11e7_a22f_1002b5c0b8darow10_col1\" class=\"data row10 col1\" >35</td> \n",
       "        <td id=\"T_b28e6a4a_a2df_11e7_a22f_1002b5c0b8darow10_col2\" class=\"data row10 col2\" >F</td> \n",
       "        <td id=\"T_b28e6a4a_a2df_11e7_a22f_1002b5c0b8darow10_col3\" class=\"data row10 col3\" >0.685714</td> \n",
       "        <td id=\"T_b28e6a4a_a2df_11e7_a22f_1002b5c0b8darow10_col4\" class=\"data row10 col4\" >Pear</td> \n",
       "    </tr>    <tr> \n",
       "        <th id=\"T_b28e6a4a_a2df_11e7_a22f_1002b5c0b8da\" class=\"row_heading level0 row11\" >12</th> \n",
       "        <td id=\"T_b28e6a4a_a2df_11e7_a22f_1002b5c0b8darow11_col0\" class=\"data row11 col0\" >25</td> \n",
       "        <td id=\"T_b28e6a4a_a2df_11e7_a22f_1002b5c0b8darow11_col1\" class=\"data row11 col1\" >37</td> \n",
       "        <td id=\"T_b28e6a4a_a2df_11e7_a22f_1002b5c0b8darow11_col2\" class=\"data row11 col2\" >F</td> \n",
       "        <td id=\"T_b28e6a4a_a2df_11e7_a22f_1002b5c0b8darow11_col3\" class=\"data row11 col3\" >0.675676</td> \n",
       "        <td id=\"T_b28e6a4a_a2df_11e7_a22f_1002b5c0b8darow11_col4\" class=\"data row11 col4\" >Pear</td> \n",
       "    </tr>    <tr> \n",
       "        <th id=\"T_b28e6a4a_a2df_11e7_a22f_1002b5c0b8da\" class=\"row_heading level0 row12\" >13</th> \n",
       "        <td id=\"T_b28e6a4a_a2df_11e7_a22f_1002b5c0b8darow12_col0\" class=\"data row12 col0\" >24</td> \n",
       "        <td id=\"T_b28e6a4a_a2df_11e7_a22f_1002b5c0b8darow12_col1\" class=\"data row12 col1\" >37</td> \n",
       "        <td id=\"T_b28e6a4a_a2df_11e7_a22f_1002b5c0b8darow12_col2\" class=\"data row12 col2\" >F</td> \n",
       "        <td id=\"T_b28e6a4a_a2df_11e7_a22f_1002b5c0b8darow12_col3\" class=\"data row12 col3\" >0.648649</td> \n",
       "        <td id=\"T_b28e6a4a_a2df_11e7_a22f_1002b5c0b8darow12_col4\" class=\"data row12 col4\" >Pear</td> \n",
       "    </tr>    <tr> \n",
       "        <th id=\"T_b28e6a4a_a2df_11e7_a22f_1002b5c0b8da\" class=\"row_heading level0 row13\" >14</th> \n",
       "        <td id=\"T_b28e6a4a_a2df_11e7_a22f_1002b5c0b8darow13_col0\" class=\"data row13 col0\" >22</td> \n",
       "        <td id=\"T_b28e6a4a_a2df_11e7_a22f_1002b5c0b8darow13_col1\" class=\"data row13 col1\" >34</td> \n",
       "        <td id=\"T_b28e6a4a_a2df_11e7_a22f_1002b5c0b8darow13_col2\" class=\"data row13 col2\" >F</td> \n",
       "        <td id=\"T_b28e6a4a_a2df_11e7_a22f_1002b5c0b8darow13_col3\" class=\"data row13 col3\" >0.647059</td> \n",
       "        <td id=\"T_b28e6a4a_a2df_11e7_a22f_1002b5c0b8darow13_col4\" class=\"data row13 col4\" >Pear</td> \n",
       "    </tr>    <tr> \n",
       "        <th id=\"T_b28e6a4a_a2df_11e7_a22f_1002b5c0b8da\" class=\"row_heading level0 row14\" >15</th> \n",
       "        <td id=\"T_b28e6a4a_a2df_11e7_a22f_1002b5c0b8darow14_col0\" class=\"data row14 col0\" >26</td> \n",
       "        <td id=\"T_b28e6a4a_a2df_11e7_a22f_1002b5c0b8darow14_col1\" class=\"data row14 col1\" >38</td> \n",
       "        <td id=\"T_b28e6a4a_a2df_11e7_a22f_1002b5c0b8darow14_col2\" class=\"data row14 col2\" >F</td> \n",
       "        <td id=\"T_b28e6a4a_a2df_11e7_a22f_1002b5c0b8darow14_col3\" class=\"data row14 col3\" >0.684211</td> \n",
       "        <td id=\"T_b28e6a4a_a2df_11e7_a22f_1002b5c0b8darow14_col4\" class=\"data row14 col4\" >Pear</td> \n",
       "    </tr>    <tr> \n",
       "        <th id=\"T_b28e6a4a_a2df_11e7_a22f_1002b5c0b8da\" class=\"row_heading level0 row15\" >16</th> \n",
       "        <td id=\"T_b28e6a4a_a2df_11e7_a22f_1002b5c0b8darow15_col0\" class=\"data row15 col0\" >26</td> \n",
       "        <td id=\"T_b28e6a4a_a2df_11e7_a22f_1002b5c0b8darow15_col1\" class=\"data row15 col1\" >37</td> \n",
       "        <td id=\"T_b28e6a4a_a2df_11e7_a22f_1002b5c0b8darow15_col2\" class=\"data row15 col2\" >F</td> \n",
       "        <td id=\"T_b28e6a4a_a2df_11e7_a22f_1002b5c0b8darow15_col3\" class=\"data row15 col3\" >0.702703</td> \n",
       "        <td id=\"T_b28e6a4a_a2df_11e7_a22f_1002b5c0b8darow15_col4\" class=\"data row15 col4\" >Pear</td> \n",
       "    </tr>    <tr> \n",
       "        <th id=\"T_b28e6a4a_a2df_11e7_a22f_1002b5c0b8da\" class=\"row_heading level0 row16\" >17</th> \n",
       "        <td id=\"T_b28e6a4a_a2df_11e7_a22f_1002b5c0b8darow16_col0\" class=\"data row16 col0\" >25</td> \n",
       "        <td id=\"T_b28e6a4a_a2df_11e7_a22f_1002b5c0b8darow16_col1\" class=\"data row16 col1\" >38</td> \n",
       "        <td id=\"T_b28e6a4a_a2df_11e7_a22f_1002b5c0b8darow16_col2\" class=\"data row16 col2\" >F</td> \n",
       "        <td id=\"T_b28e6a4a_a2df_11e7_a22f_1002b5c0b8darow16_col3\" class=\"data row16 col3\" >0.657895</td> \n",
       "        <td id=\"T_b28e6a4a_a2df_11e7_a22f_1002b5c0b8darow16_col4\" class=\"data row16 col4\" >Pear</td> \n",
       "    </tr>    <tr> \n",
       "        <th id=\"T_b28e6a4a_a2df_11e7_a22f_1002b5c0b8da\" class=\"row_heading level0 row17\" >18</th> \n",
       "        <td id=\"T_b28e6a4a_a2df_11e7_a22f_1002b5c0b8darow17_col0\" class=\"data row17 col0\" >26</td> \n",
       "        <td id=\"T_b28e6a4a_a2df_11e7_a22f_1002b5c0b8darow17_col1\" class=\"data row17 col1\" >37</td> \n",
       "        <td id=\"T_b28e6a4a_a2df_11e7_a22f_1002b5c0b8darow17_col2\" class=\"data row17 col2\" >F</td> \n",
       "        <td id=\"T_b28e6a4a_a2df_11e7_a22f_1002b5c0b8darow17_col3\" class=\"data row17 col3\" >0.702703</td> \n",
       "        <td id=\"T_b28e6a4a_a2df_11e7_a22f_1002b5c0b8darow17_col4\" class=\"data row17 col4\" >Pear</td> \n",
       "    </tr>    <tr> \n",
       "        <th id=\"T_b28e6a4a_a2df_11e7_a22f_1002b5c0b8da\" class=\"row_heading level0 row18\" >19</th> \n",
       "        <td id=\"T_b28e6a4a_a2df_11e7_a22f_1002b5c0b8darow18_col0\" class=\"data row18 col0\" >28</td> \n",
       "        <td id=\"T_b28e6a4a_a2df_11e7_a22f_1002b5c0b8darow18_col1\" class=\"data row18 col1\" >40</td> \n",
       "        <td id=\"T_b28e6a4a_a2df_11e7_a22f_1002b5c0b8darow18_col2\" class=\"data row18 col2\" >F</td> \n",
       "        <td id=\"T_b28e6a4a_a2df_11e7_a22f_1002b5c0b8darow18_col3\" class=\"data row18 col3\" >0.7</td> \n",
       "        <td id=\"T_b28e6a4a_a2df_11e7_a22f_1002b5c0b8darow18_col4\" class=\"data row18 col4\" >Pear</td> \n",
       "    </tr>    <tr> \n",
       "        <th id=\"T_b28e6a4a_a2df_11e7_a22f_1002b5c0b8da\" class=\"row_heading level0 row19\" >20</th> \n",
       "        <td id=\"T_b28e6a4a_a2df_11e7_a22f_1002b5c0b8darow19_col0\" class=\"data row19 col0\" >23</td> \n",
       "        <td id=\"T_b28e6a4a_a2df_11e7_a22f_1002b5c0b8darow19_col1\" class=\"data row19 col1\" >35</td> \n",
       "        <td id=\"T_b28e6a4a_a2df_11e7_a22f_1002b5c0b8darow19_col2\" class=\"data row19 col2\" >F</td> \n",
       "        <td id=\"T_b28e6a4a_a2df_11e7_a22f_1002b5c0b8darow19_col3\" class=\"data row19 col3\" >0.657143</td> \n",
       "        <td id=\"T_b28e6a4a_a2df_11e7_a22f_1002b5c0b8darow19_col4\" class=\"data row19 col4\" >Pear</td> \n",
       "    </tr></tbody> \n",
       "</table> "
      ],
      "text/plain": [
       "<pandas.io.formats.style.Styler at 0x274a46205c0>"
      ]
     },
     "execution_count": 18,
     "metadata": {},
     "output_type": "execute_result"
    }
   ],
   "source": [
    "# Goal: pretty print the rows as an HTML table\n",
    "\n",
    "rows.style"
   ]
  },
  {
   "cell_type": "code",
   "execution_count": 19,
   "metadata": {
    "collapsed": true
   },
   "outputs": [],
   "source": [
    "rows.to_csv(\"Engu_Chen_HealthStats_HW_Part4.csv\")"
   ]
  },
  {
   "cell_type": "code",
   "execution_count": null,
   "metadata": {
    "collapsed": true
   },
   "outputs": [],
   "source": []
  }
 ],
 "metadata": {
  "kernelspec": {
   "display_name": "Python 3",
   "language": "python",
   "name": "python3"
  },
  "language_info": {
   "codemirror_mode": {
    "name": "ipython",
    "version": 3
   },
   "file_extension": ".py",
   "mimetype": "text/x-python",
   "name": "python",
   "nbconvert_exporter": "python",
   "pygments_lexer": "ipython3",
   "version": "3.6.1"
  }
 },
 "nbformat": 4,
 "nbformat_minor": 2
}
